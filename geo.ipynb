{
 "cells": [
  {
   "cell_type": "code",
   "execution_count": 2,
   "metadata": {},
   "outputs": [],
   "source": [
    "import geopandas as gpd\n",
    "import plotly.graph_objects as go\n",
    "import json\n"
   ]
  },
  {
   "cell_type": "code",
   "execution_count": 3,
   "metadata": {},
   "outputs": [],
   "source": [
    "\n",
    "data = gpd.read_file('Youssoufia.geojson')\n"
   ]
  },
  {
   "cell_type": "code",
   "execution_count": 4,
   "metadata": {},
   "outputs": [
    {
     "data": {
      "application/vnd.plotly.v1+json": {
       "config": {
        "plotlyServerURL": "https://plot.ly"
       },
       "data": [
        {
         "hovertext": "{\n    \"name\": \"Pharmacie Zaid \\u0635\\u064a\\u062f\\u0644\\u064a\\u0629 \\u0632\\u064a\\u062f\",\n    \"amenity\": \"pharmacy\",\n    \"operator\": \"Ph PZ\",\n    \"addr:city\": \"Youssoufia \\u2d62\\u2d53\\u2d59\\u2d3c\\u2d49\\u2d62\\u2d30 \\u0627\\u0644\\u064a\\u0648\\u0633\\u0641\\u064a\\u0629\",\n    \"dispensing\": \"yes\",\n    \"healthcare\": \"pharmacy\",\n    \"addr:postcode\": \"46300\",\n    \"drive_through\": \"yes\"\n}",
         "lat": [
          32.2484544
         ],
         "lon": [
          -8.5234343
         ],
         "marker": {
          "color": "red",
          "size": 10
         },
         "mode": "markers",
         "type": "scattermapbox"
        },
        {
         "hovertext": "{\n    \"name\": \"Pharmacie Louis Gentil \\u0635\\u064a\\u062f\\u0644\\u064a\\u0629 \\u0644\\u0648\\u064a\\u0633 \\u062c\\u0648\\u0646\\u062a\\u064a\",\n    \"amenity\": \"pharmacy\",\n    \"operator\": \"Ph PLG\",\n    \"addr:city\": \"Youssoufia\",\n    \"dispensing\": \"yes\",\n    \"healthcare\": \"pharmacy\",\n    \"addr:postcode\": \"46300\",\n    \"drive_through\": \"yes\"\n}",
         "lat": [
          32.246148
         ],
         "lon": [
          -8.5283145
         ],
         "marker": {
          "color": "red",
          "size": 10
         },
         "mode": "markers",
         "type": "scattermapbox"
        },
        {
         "hovertext": "{\n    \"name\": \"Pharmacie Lahdir \\u0635\\u064a\\u062f\\u0644\\u064a\\u0629 \\u0644\\u0647\\u0636\\u064a\\u0631\",\n    \"amenity\": \"pharmacy\",\n    \"operator\": \"Ph PL\",\n    \"addr:city\": \"Youssoufia\",\n    \"dispensing\": \"yes\",\n    \"healthcare\": \"pharmacy\",\n    \"addr:postcode\": \"46300\",\n    \"drive_through\": \"yes\"\n}",
         "lat": [
          32.2489358
         ],
         "lon": [
          -8.532388
         ],
         "marker": {
          "color": "red",
          "size": 10
         },
         "mode": "markers",
         "type": "scattermapbox"
        },
        {
         "hovertext": "{\n    \"name\": \"Pharmacie Zaytouna \\u0635\\u064a\\u062f\\u0644\\u064a\\u0629 \\u0632\\u064a\\u062a\\u0648\\u0646\\u0629\",\n    \"amenity\": \"pharmacy\",\n    \"operator\": \"Ph PZ\",\n    \"addr:city\": \"Youssoufia \\u2d62\\u2d53\\u2d59\\u2d3c\\u2d49\\u2d62\\u2d30 \\u0627\\u0644\\u064a\\u0648\\u0633\\u0641\\u064a\\u0629\",\n    \"dispensing\": \"yes\",\n    \"healthcare\": \"pharmacy\",\n    \"addr:postcode\": \"46300\",\n    \"drive_through\": \"yes\"\n}",
         "lat": [
          32.2491676
         ],
         "lon": [
          -8.539346
         ],
         "marker": {
          "color": "red",
          "size": 10
         },
         "mode": "markers",
         "type": "scattermapbox"
        },
        {
         "hovertext": "{\n    \"name\": \"Pharmacie Minicipalit\\u00e9 \\u0635\\u064a\\u062f\\u0644\\u064a\\u0629 \\u0627\\u0644\\u0628\\u0644\\u062f\\u064a\\u0629\",\n    \"amenity\": \"pharmacy\",\n    \"operator\": \"Ph PMY\",\n    \"addr:city\": \"YOUSSOUFIA\",\n    \"dispensing\": \"yes\",\n    \"healthcare\": \"pharmacy\",\n    \"addr:postcode\": \"46302\",\n    \"drive_through\": \"yes\"\n}",
         "lat": [
          32.2446437
         ],
         "lon": [
          -8.5345939
         ],
         "marker": {
          "color": "red",
          "size": 10
         },
         "mode": "markers",
         "type": "scattermapbox"
        },
        {
         "hovertext": "{\n    \"name\": \"Pharmacie Al Ouma \\u0635\\u064a\\u062f\\u0644\\u064a\\u0629 \\u0627\\u0644\\u0623\\u0645\\u0629\",\n    \"amenity\": \"pharmacy\",\n    \"operator\": \"Ph PAO\",\n    \"addr:city\": \"Youssoufia \\u2d62\\u2d53\\u2d59\\u2d3c\\u2d49\\u2d62\\u2d30 \\u0627\\u0644\\u064a\\u0648\\u0633\\u0641\\u064a\\u0629\",\n    \"dispensing\": \"yes\",\n    \"healthcare\": \"pharmacy\",\n    \"addr:postcode\": \"46302\",\n    \"drive_through\": \"yes\"\n}",
         "lat": [
          32.2458394
         ],
         "lon": [
          -8.5341124
         ],
         "marker": {
          "color": "red",
          "size": 10
         },
         "mode": "markers",
         "type": "scattermapbox"
        },
        {
         "hovertext": "{\n    \"name\": \"Pharmacie Kachkat \\u0635\\u064a\\u062f\\u0644\\u064a\\u0629 \\u0643\\u0627\\u0634\\u0643\\u0627\\u0637\",\n    \"amenity\": \"pharmacy\",\n    \"operator\": \"Ph PK\",\n    \"addr:city\": \"Youssoufia \\u2d62\\u2d53\\u2d59\\u2d3c\\u2d49\\u2d62\\u2d30 \\u0627\\u0644\\u064a\\u0648\\u0633\\u0641\\u064a\\u0629\",\n    \"dispensing\": \"yes\",\n    \"healthcare\": \"pharmacy\",\n    \"addr:postcode\": \"46302\",\n    \"drive_through\": \"yes\"\n}",
         "lat": [
          32.2458067
         ],
         "lon": [
          -8.5332465
         ],
         "marker": {
          "color": "red",
          "size": 10
         },
         "mode": "markers",
         "type": "scattermapbox"
        },
        {
         "hovertext": "{\n    \"name\": \"Pharmacie Orphelinat \\u0635\\u064a\\u062f\\u0644\\u064a\\u0629 \\u0627\\u0644\\u062e\\u064a\\u0631\\u064a\\u0629\",\n    \"amenity\": \"pharmacy\",\n    \"operator\": \"Ph PO\",\n    \"addr:city\": \"Youssoufia \\u2d62\\u2d53\\u2d59\\u2d3c\\u2d49\\u2d62\\u2d30 \\u0627\\u0644\\u064a\\u0648\\u0633\\u0641\\u064a\\u0629\",\n    \"dispensing\": \"yes\",\n    \"healthcare\": \"pharmacy\",\n    \"addr:postcode\": \"46300\",\n    \"drive_through\": \"yes\"\n}",
         "lat": [
          32.2446004
         ],
         "lon": [
          -8.5317972
         ],
         "marker": {
          "color": "red",
          "size": 10
         },
         "mode": "markers",
         "type": "scattermapbox"
        },
        {
         "hovertext": "{\n    \"name\": \"Pharmacie Moderne \\u0627\\u0644\\u0635\\u064a\\u062f\\u0644\\u064a\\u0629 \\u0627\\u0644\\u062d\\u062f\\u064a\\u062b\\u0629\",\n    \"amenity\": \"pharmacy\",\n    \"operator\": \"Ph PM\",\n    \"addr:city\": \"Youssoufia\",\n    \"dispensing\": \"yes\",\n    \"healthcare\": \"pharmacy\",\n    \"addr:postcode\": \"46300\",\n    \"drive_through\": \"yes\"\n}",
         "lat": [
          32.2415859
         ],
         "lon": [
          -8.5371963
         ],
         "marker": {
          "color": "red",
          "size": 10
         },
         "mode": "markers",
         "type": "scattermapbox"
        },
        {
         "hovertext": "{\n    \"name\": \"Pharmacie Du Souk \\u0635\\u064a\\u062f\\u0644\\u064a\\u0629 \\u0627\\u0644\\u0633\\u0648\\u0642\",\n    \"amenity\": \"pharmacy\",\n    \"operator\": \"Ph PDS\",\n    \"addr:city\": \"Youssoufia\",\n    \"dispensing\": \"yes\",\n    \"healthcare\": \"pharmacy\",\n    \"addr:postcode\": \"46300\",\n    \"drive_through\": \"yes\"\n}",
         "lat": [
          32.239991
         ],
         "lon": [
          -8.5379535
         ],
         "marker": {
          "color": "red",
          "size": 10
         },
         "mode": "markers",
         "type": "scattermapbox"
        },
        {
         "hovertext": "{\n    \"name\": \"Pharmacie Annour \\u0635\\u064a\\u062f\\u0644\\u064a\\u0629 \\u0627\\u0644\\u0646\\u0648\\u0631\",\n    \"amenity\": \"pharmacy\",\n    \"operator\": \"Ph PA\",\n    \"addr:city\": \"Youssoufia \\u2d62\\u2d53\\u2d59\\u2d3c\\u2d49\\u2d62\\u2d30 \\u0627\\u0644\\u064a\\u0648\\u0633\\u0641\\u064a\\u0629\",\n    \"dispensing\": \"yes\",\n    \"healthcare\": \"pharmacy\",\n    \"addr:postcode\": \"46300\",\n    \"drive_through\": \"yes\"\n}",
         "lat": [
          32.237092
         ],
         "lon": [
          -8.5326451
         ],
         "marker": {
          "color": "red",
          "size": 10
         },
         "mode": "markers",
         "type": "scattermapbox"
        },
        {
         "hovertext": "{\n    \"name\": \"Pharmacie Chefchaouni \\u0635\\u064a\\u062f\\u0644\\u064a\\u0629 \\u0627\\u0644\\u0634\\u0641\\u0634\\u0627\\u0648\\u0646\\u064a\",\n    \"amenity\": \"pharmacy\",\n    \"operator\": \"Ph PC\",\n    \"addr:city\": \"Youssoufia\",\n    \"dispensing\": \"yes\",\n    \"healthcare\": \"pharmacy\",\n    \"addr:postcode\": \"46300\",\n    \"drive_through\": \"yes\"\n}",
         "lat": [
          32.2552809
         ],
         "lon": [
          -8.5336693
         ],
         "marker": {
          "color": "red",
          "size": 10
         },
         "mode": "markers",
         "type": "scattermapbox"
        },
        {
         "hovertext": "{\n    \"name\": \"Pharmacie Al Qods \\u0635\\u064a\\u062f\\u0644\\u064a\\u0629 \\u0627\\u0644\\u0642\\u062f\\u0633\",\n    \"amenity\": \"pharmacy\",\n    \"operator\": \"Ph PAQ\",\n    \"addr:city\": \"YOUSSOUFIA\",\n    \"dispensing\": \"yes\",\n    \"healthcare\": \"pharmacy\",\n    \"addr:postcode\": \"46300\",\n    \"drive_through\": \"yes\"\n}",
         "lat": [
          32.2538836
         ],
         "lon": [
          -8.5358955
         ],
         "marker": {
          "color": "red",
          "size": 10
         },
         "mode": "markers",
         "type": "scattermapbox"
        },
        {
         "hovertext": "{\n    \"name\": \"Pharmacie Najmi \\u0635\\u064a\\u062f\\u0644\\u064a\\u0629 \\u0646\\u062c\\u0645\\u064a\",\n    \"amenity\": \"pharmacy\",\n    \"operator\": \"Ph PN\",\n    \"addr:city\": \"YOUSSOUFIA\",\n    \"dispensing\": \"yes\",\n    \"healthcare\": \"pharmacy\",\n    \"addr:postcode\": \"46300\",\n    \"drive_through\": \"yes\"\n}",
         "lat": [
          32.2515064
         ],
         "lon": [
          -8.5342218
         ],
         "marker": {
          "color": "red",
          "size": 10
         },
         "mode": "markers",
         "type": "scattermapbox"
        },
        {
         "hovertext": "{\n    \"name\": \"Pharmacie Dokkali \\u0635\\u064a\\u062f\\u0644\\u064a\\u0629 \\u062f\\u0643\\u0627\\u0644\\u064a\",\n    \"amenity\": \"pharmacy\",\n    \"operator\": \"Ph PD\",\n    \"addr:city\": \"Youssoufia\",\n    \"dispensing\": \"yes\",\n    \"healthcare\": \"pharmacy\",\n    \"addr:postcode\": \"46300\",\n    \"drive_through\": \"yes\"\n}",
         "lat": [
          32.2566127
         ],
         "lon": [
          -8.5291738
         ],
         "marker": {
          "color": "red",
          "size": 10
         },
         "mode": "markers",
         "type": "scattermapbox"
        },
        {
         "hovertext": "{\n    \"name\": \"Pharmacie Zainab \\u0635\\u064a\\u062f\\u0644\\u064a\\u0629 \\u0632\\u064a\\u0646\\u0628\",\n    \"amenity\": \"pharmacy\",\n    \"operator\": \"Ph PZ\",\n    \"addr:city\": \"Youssoufia \\u2d62\\u2d53\\u2d59\\u2d3c\\u2d49\\u2d62\\u2d30 \\u0627\\u0644\\u064a\\u0648\\u0633\\u0641\\u064a\\u0629\",\n    \"dispensing\": \"yes\",\n    \"healthcare\": \"pharmacy\",\n    \"addr:postcode\": \"46300\",\n    \"drive_through\": \"yes\"\n}",
         "lat": [
          32.2602303
         ],
         "lon": [
          -8.5235158
         ],
         "marker": {
          "color": "red",
          "size": 10
         },
         "mode": "markers",
         "type": "scattermapbox"
        },
        {
         "hovertext": "{\n    \"name\": \"Pharmacie Dakhla \\u0635\\u064a\\u062f\\u0644\\u064a\\u0629 \\u0627\\u0644\\u062f\\u0627\\u062e\\u0644\\u0629\",\n    \"amenity\": \"pharmacy\",\n    \"operator\": \"Ph PD\",\n    \"addr:city\": \"Youssoufia \\u2d62\\u2d53\\u2d59\\u2d3c\\u2d49\\u2d62\\u2d30 \\u0627\\u0644\\u064a\\u0648\\u0633\\u0641\\u064a\\u0629\",\n    \"dispensing\": \"yes\",\n    \"healthcare\": \"pharmacy\",\n    \"addr:postcode\": \"46300\",\n    \"drive_through\": \"yes\"\n}",
         "lat": [
          32.2330557
         ],
         "lon": [
          -8.5366846
         ],
         "marker": {
          "color": "red",
          "size": 10
         },
         "mode": "markers",
         "type": "scattermapbox"
        },
        {
         "hovertext": "{\n    \"name\": \"Pharmacie Moatamid Ibn Abbad \\u0635\\u064a\\u062f\\u0644\\u064a\\u0629 \\u0627\\u0644\\u0645\\u0639\\u062a\\u0645\\u062f \\u0628\\u0646 \\u0639\\u0628\\u0627\\u062f\",\n    \"amenity\": \"pharmacy\",\n    \"operator\": \"Ph PMIA\",\n    \"addr:city\": \"Youssoufia\",\n    \"dispensing\": \"yes\",\n    \"healthcare\": \"pharmacy\",\n    \"addr:postcode\": \"46300\",\n    \"drive_through\": \"yes\"\n}",
         "lat": [
          32.2426258
         ],
         "lon": [
          -8.5421335
         ],
         "marker": {
          "color": "red",
          "size": 10
         },
         "mode": "markers",
         "type": "scattermapbox"
        },
        {
         "hovertext": "{\n    \"name\": \"Pharmacie Inas \\u0635\\u064a\\u062f\\u0644\\u064a\\u0629 \\u0627\\u064a\\u0646\\u0627\\u0633\",\n    \"amenity\": \"pharmacy\",\n    \"operator\": \"Ph PI\",\n    \"addr:city\": \"Youssoufia\",\n    \"dispensing\": \"yes\",\n    \"healthcare\": \"pharmacy\",\n    \"addr:postcode\": \"46300\",\n    \"drive_through\": \"yes\"\n}",
         "lat": [
          32.2427264
         ],
         "lon": [
          -8.5403043
         ],
         "marker": {
          "color": "red",
          "size": 10
         },
         "mode": "markers",
         "type": "scattermapbox"
        },
        {
         "hovertext": "{\n    \"name\": \"Pharmacie Ahmar \\u0635\\u064a\\u062f\\u0644\\u064a\\u0629 \\u0623\\u062d\\u0645\\u0631\",\n    \"amenity\": \"pharmacy\",\n    \"operator\": \"Ph PA\",\n    \"addr:city\": \"Youssoufia\",\n    \"dispensing\": \"yes\",\n    \"healthcare\": \"pharmacy\",\n    \"addr:postcode\": \"46300\",\n    \"drive_through\": \"yes\"\n}",
         "lat": [
          32.2418627
         ],
         "lon": [
          -8.5354636
         ],
         "marker": {
          "color": "red",
          "size": 10
         },
         "mode": "markers",
         "type": "scattermapbox"
        },
        {
         "hovertext": "{\n    \"name\": \"Pharmacie Al Amal \\u0635\\u064a\\u062f\\u0644\\u064a\\u0629 \\u0627\\u0644\\u0623\\u0645\\u0644\",\n    \"amenity\": \"pharmacy\",\n    \"operator\": \"Ph PAA\",\n    \"addr:city\": \"Youssoufia \\u2d62\\u2d53\\u2d59\\u2d3c\\u2d49\\u2d62\\u2d30 \\u0627\\u0644\\u064a\\u0648\\u0633\\u0641\\u064a\\u0629\",\n    \"dispensing\": \"yes\",\n    \"healthcare\": \"pharmacy\",\n    \"addr:postcode\": \"46300\",\n    \"drive_through\": \"yes\"\n}",
         "lat": [
          32.2353451
         ],
         "lon": [
          -8.5328651
         ],
         "marker": {
          "color": "red",
          "size": 10
         },
         "mode": "markers",
         "type": "scattermapbox"
        },
        {
         "hovertext": "{\n    \"name\": \"Pharmacie Saada Rhazri \\u0635\\u064a\\u062f\\u0644\\u064a\\u0629 \\u0627\\u0644\\u0633\\u0639\\u0627\\u062f\\u0629 \\u0639\\u0627\\u0632\\u0631\\u064a\",\n    \"amenity\": \"pharmacy\",\n    \"operator\": \"Ph PSR\",\n    \"addr:city\": \"Youssoufia\",\n    \"dispensing\": \"yes\",\n    \"healthcare\": \"pharmacy\",\n    \"addr:postcode\": \"46300\",\n    \"drive_through\": \"yes\"\n}",
         "lat": [
          32.2361437
         ],
         "lon": [
          -8.5360301
         ],
         "marker": {
          "color": "red",
          "size": 10
         },
         "mode": "markers",
         "type": "scattermapbox"
        },
        {
         "hovertext": "{\n    \"name\": \"Pharmacie Ibn Sina \\u0635\\u064a\\u062f\\u0644\\u064a\\u0629 \\u0627\\u0628\\u0646 \\u0633\\u064a\\u0646\\u0627\",\n    \"amenity\": \"pharmacy\",\n    \"operator\": \"Ph PIS\",\n    \"addr:city\": \"Youssoufia\",\n    \"dispensing\": \"yes\",\n    \"healthcare\": \"pharmacy\",\n    \"addr:postcode\": \"46300\",\n    \"drive_through\": \"yes\"\n}",
         "lat": [
          32.239898
         ],
         "lon": [
          -8.5422871
         ],
         "marker": {
          "color": "red",
          "size": 10
         },
         "mode": "markers",
         "type": "scattermapbox"
        },
        {
         "hovertext": "{\n    \"name\": \"Pharmacie Chemaia \\u0635\\u064a\\u062f\\u0644\\u064a\\u0629 \\u0627\\u0644\\u0634\\u0645\\u0627\\u0639\\u064a\\u0629\",\n    \"amenity\": \"pharmacy\",\n    \"operator\": \"Ph PC\",\n    \"addr:city\": \"Echemmaia\",\n    \"dispensing\": \"yes\",\n    \"healthcare\": \"pharmacy\",\n    \"addr:postcode\": \"46050\",\n    \"drive_through\": \"yes\"\n}",
         "lat": [
          32.0819364
         ],
         "lon": [
          -8.6248746
         ],
         "marker": {
          "color": "red",
          "size": 10
         },
         "mode": "markers",
         "type": "scattermapbox"
        },
        {
         "hovertext": "{\n    \"name\": \"Pharmacie La marche Verte \\u0635\\u064a\\u062f\\u0644\\u064a\\u0629 \\u0627\\u0644\\u0645\\u0633\\u064a\\u0631\\u0629 \\u0627\\u0644\\u062e\\u0636\\u0631\\u0627\\u0621\",\n    \"amenity\": \"pharmacy\",\n    \"operator\": \"Ph PMV\",\n    \"addr:city\": \"Echemmaia\",\n    \"dispensing\": \"yes\",\n    \"healthcare\": \"pharmacy\",\n    \"addr:street\": \"Avenue La Marche Verte\",\n    \"addr:postcode\": \"46053\",\n    \"drive_through\": \"yes\"\n}",
         "lat": [
          32.0811162
         ],
         "lon": [
          -8.6238571
         ],
         "marker": {
          "color": "red",
          "size": 10
         },
         "mode": "markers",
         "type": "scattermapbox"
        },
        {
         "hovertext": "{\n    \"name\": \"Pharmacie Ahmar \\u0635\\u064a\\u062f\\u0644\\u064a\\u0629 \\u0623\\u062d\\u0645\\u0631\",\n    \"amenity\": \"pharmacy\",\n    \"operator\": \"Ph PA\",\n    \"addr:city\": \"Echemmaia\",\n    \"dispensing\": \"yes\",\n    \"healthcare\": \"pharmacy\",\n    \"addr:postcode\": \"46050\",\n    \"drive_through\": \"yes\"\n}",
         "lat": [
          32.0823818
         ],
         "lon": [
          -8.625985
         ],
         "marker": {
          "color": "red",
          "size": 10
         },
         "mode": "markers",
         "type": "scattermapbox"
        },
        {
         "hovertext": "{\n    \"name\": \"Pharmacie Taoufik \\u0635\\u064a\\u062f\\u0644\\u064a\\u0629 \\u062a\\u0648\\u0641\\u064a\\u0642\",\n    \"amenity\": \"pharmacy\",\n    \"operator\": \"Ph PT\",\n    \"addr:city\": \"Echemmaia\",\n    \"dispensing\": \"yes\",\n    \"healthcare\": \"pharmacy\",\n    \"addr:postcode\": \"46050\",\n    \"drive_through\": \"yes\"\n}",
         "lat": [
          32.0801425
         ],
         "lon": [
          -8.625871
         ],
         "marker": {
          "color": "red",
          "size": 10
         },
         "mode": "markers",
         "type": "scattermapbox"
        },
        {
         "hovertext": "{\n    \"name\": \"Pharmacie Essalam \\u0635\\u064a\\u062f\\u0644\\u064a\\u0629 \\u0627\\u0644\\u0633\\u0644\\u0627\\u0645\",\n    \"amenity\": \"pharmacy\",\n    \"operator\": \"Ph PE\",\n    \"addr:city\": \"Echemmaia \\u2d5b\\u2d4e\\u2d30\\u2d44\\u2d49\\u2d62\\u2d30 \\u0627\\u0644\\u0634\\u0645\\u0627\\u0639\\u064a\\u0629\",\n    \"dispensing\": \"yes\",\n    \"healthcare\": \"pharmacy\",\n    \"addr:postcode\": \"46050\",\n    \"drive_through\": \"yes\"\n}",
         "lat": [
          32.0790365
         ],
         "lon": [
          -8.6285653
         ],
         "marker": {
          "color": "red",
          "size": 10
         },
         "mode": "markers",
         "type": "scattermapbox"
        },
        {
         "hovertext": "{\n    \"name\": \"Pharmacie Sidi Bouaalam \\u0635\\u064a\\u062f\\u0644\\u064a\\u0629 \\u0633\\u064a\\u062f\\u064a \\u0628\\u0648\\u0639\\u0644\\u0627\\u0645\",\n    \"amenity\": \"pharmacy\",\n    \"operator\": \"Ph PSB\",\n    \"addr:city\": \"Echemmaia \\u2d5b\\u2d4e\\u2d30\\u2d44\\u2d49\\u2d62\\u2d30 \\u0627\\u0644\\u0634\\u0645\\u0627\\u0639\\u064a\\u0629\",\n    \"dispensing\": \"yes\",\n    \"healthcare\": \"pharmacy\",\n    \"addr:postcode\": \"46053\",\n    \"drive_through\": \"yes\"\n}",
         "lat": [
          32.0777056
         ],
         "lon": [
          -8.6266072
         ],
         "marker": {
          "color": "red",
          "size": 10
         },
         "mode": "markers",
         "type": "scattermapbox"
        },
        {
         "hovertext": "{\n    \"name\": \"Pharmacie Henider \\u0635\\u064a\\u062f\\u0644\\u064a\\u0629 \\u0647\\u0646\\u064a\\u062f\\u0631\",\n    \"amenity\": \"pharmacy\",\n    \"operator\": \"Ph PH\",\n    \"addr:city\": \"Echemmaia \\u2d5b\\u2d4e\\u2d30\\u2d44\\u2d49\\u2d62\\u2d30 \\u0627\\u0644\\u0634\\u0645\\u0627\\u0639\\u064a\\u0629\",\n    \"dispensing\": \"yes\",\n    \"healthcare\": \"pharmacy\",\n    \"addr:postcode\": \"46050\",\n    \"drive_through\": \"yes\"\n}",
         "lat": [
          32.0758357
         ],
         "lon": [
          -8.6266957
         ],
         "marker": {
          "color": "red",
          "size": 10
         },
         "mode": "markers",
         "type": "scattermapbox"
        },
        {
         "hovertext": "{\n    \"name\": \"Pharmacie Hay Essaada \\u0635\\u064a\\u062f\\u0644\\u064a\\u0629 \\u062d\\u064a \\u0627\\u0644\\u0633\\u0639\\u0627\\u062f\\u0629\",\n    \"amenity\": \"pharmacy\",\n    \"operator\": \"Ph PHE\",\n    \"addr:city\": \"Echemmaia \\u0627\\u0644\\u0634\\u0645\\u0627\\u0639\\u064a\\u0629\",\n    \"dispensing\": \"yes\",\n    \"healthcare\": \"pharmacy\",\n    \"addr:postcode\": \"46050\",\n    \"drive_through\": \"yes\"\n}",
         "lat": [
          32.0749202
         ],
         "lon": [
          -8.6303306
         ],
         "marker": {
          "color": "red",
          "size": 10
         },
         "mode": "markers",
         "type": "scattermapbox"
        },
        {
         "hovertext": "{\n    \"name\": \"Pharmacie Souk Zima \\u0635\\u064a\\u062f\\u0644\\u064a\\u0629 \\u0633\\u0648\\u0642 \\u0632\\u064a\\u0645\\u0627\",\n    \"amenity\": \"pharmacy\",\n    \"operator\": \"Ph PSZ\",\n    \"addr:city\": \"Chemaia\",\n    \"dispensing\": \"yes\",\n    \"healthcare\": \"pharmacy\",\n    \"addr:postcode\": \"46050\",\n    \"drive_through\": \"yes\"\n}",
         "lat": [
          32.0773451
         ],
         "lon": [
          -8.6318294
         ],
         "marker": {
          "color": "red",
          "size": 10
         },
         "mode": "markers",
         "type": "scattermapbox"
        }
       ],
       "layout": {
        "mapbox": {
         "center": {
          "lat": 32.0773451,
          "lon": -8.6318294
         },
         "style": "open-street-map",
         "zoom": 12
        },
        "margin": {
         "b": 0,
         "l": 0,
         "r": 0,
         "t": 30
        },
        "template": {
         "data": {
          "bar": [
           {
            "error_x": {
             "color": "#2a3f5f"
            },
            "error_y": {
             "color": "#2a3f5f"
            },
            "marker": {
             "line": {
              "color": "#E5ECF6",
              "width": 0.5
             },
             "pattern": {
              "fillmode": "overlay",
              "size": 10,
              "solidity": 0.2
             }
            },
            "type": "bar"
           }
          ],
          "barpolar": [
           {
            "marker": {
             "line": {
              "color": "#E5ECF6",
              "width": 0.5
             },
             "pattern": {
              "fillmode": "overlay",
              "size": 10,
              "solidity": 0.2
             }
            },
            "type": "barpolar"
           }
          ],
          "carpet": [
           {
            "aaxis": {
             "endlinecolor": "#2a3f5f",
             "gridcolor": "white",
             "linecolor": "white",
             "minorgridcolor": "white",
             "startlinecolor": "#2a3f5f"
            },
            "baxis": {
             "endlinecolor": "#2a3f5f",
             "gridcolor": "white",
             "linecolor": "white",
             "minorgridcolor": "white",
             "startlinecolor": "#2a3f5f"
            },
            "type": "carpet"
           }
          ],
          "choropleth": [
           {
            "colorbar": {
             "outlinewidth": 0,
             "ticks": ""
            },
            "type": "choropleth"
           }
          ],
          "contour": [
           {
            "colorbar": {
             "outlinewidth": 0,
             "ticks": ""
            },
            "colorscale": [
             [
              0,
              "#0d0887"
             ],
             [
              0.1111111111111111,
              "#46039f"
             ],
             [
              0.2222222222222222,
              "#7201a8"
             ],
             [
              0.3333333333333333,
              "#9c179e"
             ],
             [
              0.4444444444444444,
              "#bd3786"
             ],
             [
              0.5555555555555556,
              "#d8576b"
             ],
             [
              0.6666666666666666,
              "#ed7953"
             ],
             [
              0.7777777777777778,
              "#fb9f3a"
             ],
             [
              0.8888888888888888,
              "#fdca26"
             ],
             [
              1,
              "#f0f921"
             ]
            ],
            "type": "contour"
           }
          ],
          "contourcarpet": [
           {
            "colorbar": {
             "outlinewidth": 0,
             "ticks": ""
            },
            "type": "contourcarpet"
           }
          ],
          "heatmap": [
           {
            "colorbar": {
             "outlinewidth": 0,
             "ticks": ""
            },
            "colorscale": [
             [
              0,
              "#0d0887"
             ],
             [
              0.1111111111111111,
              "#46039f"
             ],
             [
              0.2222222222222222,
              "#7201a8"
             ],
             [
              0.3333333333333333,
              "#9c179e"
             ],
             [
              0.4444444444444444,
              "#bd3786"
             ],
             [
              0.5555555555555556,
              "#d8576b"
             ],
             [
              0.6666666666666666,
              "#ed7953"
             ],
             [
              0.7777777777777778,
              "#fb9f3a"
             ],
             [
              0.8888888888888888,
              "#fdca26"
             ],
             [
              1,
              "#f0f921"
             ]
            ],
            "type": "heatmap"
           }
          ],
          "heatmapgl": [
           {
            "colorbar": {
             "outlinewidth": 0,
             "ticks": ""
            },
            "colorscale": [
             [
              0,
              "#0d0887"
             ],
             [
              0.1111111111111111,
              "#46039f"
             ],
             [
              0.2222222222222222,
              "#7201a8"
             ],
             [
              0.3333333333333333,
              "#9c179e"
             ],
             [
              0.4444444444444444,
              "#bd3786"
             ],
             [
              0.5555555555555556,
              "#d8576b"
             ],
             [
              0.6666666666666666,
              "#ed7953"
             ],
             [
              0.7777777777777778,
              "#fb9f3a"
             ],
             [
              0.8888888888888888,
              "#fdca26"
             ],
             [
              1,
              "#f0f921"
             ]
            ],
            "type": "heatmapgl"
           }
          ],
          "histogram": [
           {
            "marker": {
             "pattern": {
              "fillmode": "overlay",
              "size": 10,
              "solidity": 0.2
             }
            },
            "type": "histogram"
           }
          ],
          "histogram2d": [
           {
            "colorbar": {
             "outlinewidth": 0,
             "ticks": ""
            },
            "colorscale": [
             [
              0,
              "#0d0887"
             ],
             [
              0.1111111111111111,
              "#46039f"
             ],
             [
              0.2222222222222222,
              "#7201a8"
             ],
             [
              0.3333333333333333,
              "#9c179e"
             ],
             [
              0.4444444444444444,
              "#bd3786"
             ],
             [
              0.5555555555555556,
              "#d8576b"
             ],
             [
              0.6666666666666666,
              "#ed7953"
             ],
             [
              0.7777777777777778,
              "#fb9f3a"
             ],
             [
              0.8888888888888888,
              "#fdca26"
             ],
             [
              1,
              "#f0f921"
             ]
            ],
            "type": "histogram2d"
           }
          ],
          "histogram2dcontour": [
           {
            "colorbar": {
             "outlinewidth": 0,
             "ticks": ""
            },
            "colorscale": [
             [
              0,
              "#0d0887"
             ],
             [
              0.1111111111111111,
              "#46039f"
             ],
             [
              0.2222222222222222,
              "#7201a8"
             ],
             [
              0.3333333333333333,
              "#9c179e"
             ],
             [
              0.4444444444444444,
              "#bd3786"
             ],
             [
              0.5555555555555556,
              "#d8576b"
             ],
             [
              0.6666666666666666,
              "#ed7953"
             ],
             [
              0.7777777777777778,
              "#fb9f3a"
             ],
             [
              0.8888888888888888,
              "#fdca26"
             ],
             [
              1,
              "#f0f921"
             ]
            ],
            "type": "histogram2dcontour"
           }
          ],
          "mesh3d": [
           {
            "colorbar": {
             "outlinewidth": 0,
             "ticks": ""
            },
            "type": "mesh3d"
           }
          ],
          "parcoords": [
           {
            "line": {
             "colorbar": {
              "outlinewidth": 0,
              "ticks": ""
             }
            },
            "type": "parcoords"
           }
          ],
          "pie": [
           {
            "automargin": true,
            "type": "pie"
           }
          ],
          "scatter": [
           {
            "fillpattern": {
             "fillmode": "overlay",
             "size": 10,
             "solidity": 0.2
            },
            "type": "scatter"
           }
          ],
          "scatter3d": [
           {
            "line": {
             "colorbar": {
              "outlinewidth": 0,
              "ticks": ""
             }
            },
            "marker": {
             "colorbar": {
              "outlinewidth": 0,
              "ticks": ""
             }
            },
            "type": "scatter3d"
           }
          ],
          "scattercarpet": [
           {
            "marker": {
             "colorbar": {
              "outlinewidth": 0,
              "ticks": ""
             }
            },
            "type": "scattercarpet"
           }
          ],
          "scattergeo": [
           {
            "marker": {
             "colorbar": {
              "outlinewidth": 0,
              "ticks": ""
             }
            },
            "type": "scattergeo"
           }
          ],
          "scattergl": [
           {
            "marker": {
             "colorbar": {
              "outlinewidth": 0,
              "ticks": ""
             }
            },
            "type": "scattergl"
           }
          ],
          "scattermapbox": [
           {
            "marker": {
             "colorbar": {
              "outlinewidth": 0,
              "ticks": ""
             }
            },
            "type": "scattermapbox"
           }
          ],
          "scatterpolar": [
           {
            "marker": {
             "colorbar": {
              "outlinewidth": 0,
              "ticks": ""
             }
            },
            "type": "scatterpolar"
           }
          ],
          "scatterpolargl": [
           {
            "marker": {
             "colorbar": {
              "outlinewidth": 0,
              "ticks": ""
             }
            },
            "type": "scatterpolargl"
           }
          ],
          "scatterternary": [
           {
            "marker": {
             "colorbar": {
              "outlinewidth": 0,
              "ticks": ""
             }
            },
            "type": "scatterternary"
           }
          ],
          "surface": [
           {
            "colorbar": {
             "outlinewidth": 0,
             "ticks": ""
            },
            "colorscale": [
             [
              0,
              "#0d0887"
             ],
             [
              0.1111111111111111,
              "#46039f"
             ],
             [
              0.2222222222222222,
              "#7201a8"
             ],
             [
              0.3333333333333333,
              "#9c179e"
             ],
             [
              0.4444444444444444,
              "#bd3786"
             ],
             [
              0.5555555555555556,
              "#d8576b"
             ],
             [
              0.6666666666666666,
              "#ed7953"
             ],
             [
              0.7777777777777778,
              "#fb9f3a"
             ],
             [
              0.8888888888888888,
              "#fdca26"
             ],
             [
              1,
              "#f0f921"
             ]
            ],
            "type": "surface"
           }
          ],
          "table": [
           {
            "cells": {
             "fill": {
              "color": "#EBF0F8"
             },
             "line": {
              "color": "white"
             }
            },
            "header": {
             "fill": {
              "color": "#C8D4E3"
             },
             "line": {
              "color": "white"
             }
            },
            "type": "table"
           }
          ]
         },
         "layout": {
          "annotationdefaults": {
           "arrowcolor": "#2a3f5f",
           "arrowhead": 0,
           "arrowwidth": 1
          },
          "autotypenumbers": "strict",
          "coloraxis": {
           "colorbar": {
            "outlinewidth": 0,
            "ticks": ""
           }
          },
          "colorscale": {
           "diverging": [
            [
             0,
             "#8e0152"
            ],
            [
             0.1,
             "#c51b7d"
            ],
            [
             0.2,
             "#de77ae"
            ],
            [
             0.3,
             "#f1b6da"
            ],
            [
             0.4,
             "#fde0ef"
            ],
            [
             0.5,
             "#f7f7f7"
            ],
            [
             0.6,
             "#e6f5d0"
            ],
            [
             0.7,
             "#b8e186"
            ],
            [
             0.8,
             "#7fbc41"
            ],
            [
             0.9,
             "#4d9221"
            ],
            [
             1,
             "#276419"
            ]
           ],
           "sequential": [
            [
             0,
             "#0d0887"
            ],
            [
             0.1111111111111111,
             "#46039f"
            ],
            [
             0.2222222222222222,
             "#7201a8"
            ],
            [
             0.3333333333333333,
             "#9c179e"
            ],
            [
             0.4444444444444444,
             "#bd3786"
            ],
            [
             0.5555555555555556,
             "#d8576b"
            ],
            [
             0.6666666666666666,
             "#ed7953"
            ],
            [
             0.7777777777777778,
             "#fb9f3a"
            ],
            [
             0.8888888888888888,
             "#fdca26"
            ],
            [
             1,
             "#f0f921"
            ]
           ],
           "sequentialminus": [
            [
             0,
             "#0d0887"
            ],
            [
             0.1111111111111111,
             "#46039f"
            ],
            [
             0.2222222222222222,
             "#7201a8"
            ],
            [
             0.3333333333333333,
             "#9c179e"
            ],
            [
             0.4444444444444444,
             "#bd3786"
            ],
            [
             0.5555555555555556,
             "#d8576b"
            ],
            [
             0.6666666666666666,
             "#ed7953"
            ],
            [
             0.7777777777777778,
             "#fb9f3a"
            ],
            [
             0.8888888888888888,
             "#fdca26"
            ],
            [
             1,
             "#f0f921"
            ]
           ]
          },
          "colorway": [
           "#636efa",
           "#EF553B",
           "#00cc96",
           "#ab63fa",
           "#FFA15A",
           "#19d3f3",
           "#FF6692",
           "#B6E880",
           "#FF97FF",
           "#FECB52"
          ],
          "font": {
           "color": "#2a3f5f"
          },
          "geo": {
           "bgcolor": "white",
           "lakecolor": "white",
           "landcolor": "#E5ECF6",
           "showlakes": true,
           "showland": true,
           "subunitcolor": "white"
          },
          "hoverlabel": {
           "align": "left"
          },
          "hovermode": "closest",
          "mapbox": {
           "style": "light"
          },
          "paper_bgcolor": "white",
          "plot_bgcolor": "#E5ECF6",
          "polar": {
           "angularaxis": {
            "gridcolor": "white",
            "linecolor": "white",
            "ticks": ""
           },
           "bgcolor": "#E5ECF6",
           "radialaxis": {
            "gridcolor": "white",
            "linecolor": "white",
            "ticks": ""
           }
          },
          "scene": {
           "xaxis": {
            "backgroundcolor": "#E5ECF6",
            "gridcolor": "white",
            "gridwidth": 2,
            "linecolor": "white",
            "showbackground": true,
            "ticks": "",
            "zerolinecolor": "white"
           },
           "yaxis": {
            "backgroundcolor": "#E5ECF6",
            "gridcolor": "white",
            "gridwidth": 2,
            "linecolor": "white",
            "showbackground": true,
            "ticks": "",
            "zerolinecolor": "white"
           },
           "zaxis": {
            "backgroundcolor": "#E5ECF6",
            "gridcolor": "white",
            "gridwidth": 2,
            "linecolor": "white",
            "showbackground": true,
            "ticks": "",
            "zerolinecolor": "white"
           }
          },
          "shapedefaults": {
           "line": {
            "color": "#2a3f5f"
           }
          },
          "ternary": {
           "aaxis": {
            "gridcolor": "white",
            "linecolor": "white",
            "ticks": ""
           },
           "baxis": {
            "gridcolor": "white",
            "linecolor": "white",
            "ticks": ""
           },
           "bgcolor": "#E5ECF6",
           "caxis": {
            "gridcolor": "white",
            "linecolor": "white",
            "ticks": ""
           }
          },
          "title": {
           "x": 0.05
          },
          "xaxis": {
           "automargin": true,
           "gridcolor": "white",
           "linecolor": "white",
           "ticks": "",
           "title": {
            "standoff": 15
           },
           "zerolinecolor": "white",
           "zerolinewidth": 2
          },
          "yaxis": {
           "automargin": true,
           "gridcolor": "white",
           "linecolor": "white",
           "ticks": "",
           "title": {
            "standoff": 15
           },
           "zerolinecolor": "white",
           "zerolinewidth": 2
          }
         }
        }
       }
      }
     },
     "metadata": {},
     "output_type": "display_data"
    }
   ],
   "source": [
    "\n",
    "map_traces = []\n",
    "for index, row in data.iterrows():\n",
    "    tags = row['tags']\n",
    "    if 'amenity' in tags and tags['amenity'] == 'pharmacy':\n",
    "        latitude, longitude = row['geometry'].y, row['geometry'].x\n",
    "        tags_str = json.dumps(tags, indent=4)\n",
    "        \n",
    "        map_trace = go.Scattermapbox(\n",
    "            lat=[latitude],\n",
    "            lon=[longitude],\n",
    "            mode='markers',\n",
    "            marker=dict(size=10, color='red'),\n",
    "            hovertext=tags_str \n",
    "        )\n",
    "        \n",
    "        map_traces.append(map_trace)\n",
    "\n",
    "layout = go.Layout(\n",
    "    mapbox_style=\"open-street-map\",\n",
    "    mapbox_center={\"lat\": latitude, \"lon\": longitude},\n",
    "    mapbox_zoom=12,\n",
    "    margin=dict(l=0, r=0, t=30, b=0)\n",
    ")\n",
    "\n",
    "fig = go.Figure(data=map_traces, layout=layout)\n",
    "\n",
    "fig.show()\n"
   ]
  },
  {
   "cell_type": "code",
   "execution_count": 5,
   "metadata": {},
   "outputs": [
    {
     "data": {
      "application/vnd.plotly.v1+json": {
       "config": {
        "plotlyServerURL": "https://plot.ly"
       },
       "data": [
        {
         "hovertext": "{\n    \"building\": \"train_station\"\n}",
         "lat": [
          32.2638077
         ],
         "lon": [
          -8.7563453
         ],
         "marker": {
          "color": "blue",
          "size": 10
         },
         "mode": "markers",
         "type": "scattermapbox"
        },
        {
         "hovertext": "{\n    \"building\": \"train_station\"\n}",
         "lat": [
          32.2617056
         ],
         "lon": [
          -8.9773812
         ],
         "marker": {
          "color": "blue",
          "size": 10
         },
         "mode": "markers",
         "type": "scattermapbox"
        },
        {
         "hovertext": "{\n    \"name\": \"Gare de Youssoufia\",\n    \"building\": \"train_station\"\n}",
         "lat": [
          32.24746048465893
         ],
         "lon": [
          -8.534562947664918
         ],
         "marker": {
          "color": "blue",
          "size": 10
         },
         "mode": "markers",
         "type": "scattermapbox"
        }
       ],
       "layout": {
        "mapbox": {
         "center": {
          "lat": 32.24746048465893,
          "lon": -8.534562947664918
         },
         "style": "open-street-map",
         "zoom": 12
        },
        "margin": {
         "b": 0,
         "l": 0,
         "r": 0,
         "t": 30
        },
        "template": {
         "data": {
          "bar": [
           {
            "error_x": {
             "color": "#2a3f5f"
            },
            "error_y": {
             "color": "#2a3f5f"
            },
            "marker": {
             "line": {
              "color": "#E5ECF6",
              "width": 0.5
             },
             "pattern": {
              "fillmode": "overlay",
              "size": 10,
              "solidity": 0.2
             }
            },
            "type": "bar"
           }
          ],
          "barpolar": [
           {
            "marker": {
             "line": {
              "color": "#E5ECF6",
              "width": 0.5
             },
             "pattern": {
              "fillmode": "overlay",
              "size": 10,
              "solidity": 0.2
             }
            },
            "type": "barpolar"
           }
          ],
          "carpet": [
           {
            "aaxis": {
             "endlinecolor": "#2a3f5f",
             "gridcolor": "white",
             "linecolor": "white",
             "minorgridcolor": "white",
             "startlinecolor": "#2a3f5f"
            },
            "baxis": {
             "endlinecolor": "#2a3f5f",
             "gridcolor": "white",
             "linecolor": "white",
             "minorgridcolor": "white",
             "startlinecolor": "#2a3f5f"
            },
            "type": "carpet"
           }
          ],
          "choropleth": [
           {
            "colorbar": {
             "outlinewidth": 0,
             "ticks": ""
            },
            "type": "choropleth"
           }
          ],
          "contour": [
           {
            "colorbar": {
             "outlinewidth": 0,
             "ticks": ""
            },
            "colorscale": [
             [
              0,
              "#0d0887"
             ],
             [
              0.1111111111111111,
              "#46039f"
             ],
             [
              0.2222222222222222,
              "#7201a8"
             ],
             [
              0.3333333333333333,
              "#9c179e"
             ],
             [
              0.4444444444444444,
              "#bd3786"
             ],
             [
              0.5555555555555556,
              "#d8576b"
             ],
             [
              0.6666666666666666,
              "#ed7953"
             ],
             [
              0.7777777777777778,
              "#fb9f3a"
             ],
             [
              0.8888888888888888,
              "#fdca26"
             ],
             [
              1,
              "#f0f921"
             ]
            ],
            "type": "contour"
           }
          ],
          "contourcarpet": [
           {
            "colorbar": {
             "outlinewidth": 0,
             "ticks": ""
            },
            "type": "contourcarpet"
           }
          ],
          "heatmap": [
           {
            "colorbar": {
             "outlinewidth": 0,
             "ticks": ""
            },
            "colorscale": [
             [
              0,
              "#0d0887"
             ],
             [
              0.1111111111111111,
              "#46039f"
             ],
             [
              0.2222222222222222,
              "#7201a8"
             ],
             [
              0.3333333333333333,
              "#9c179e"
             ],
             [
              0.4444444444444444,
              "#bd3786"
             ],
             [
              0.5555555555555556,
              "#d8576b"
             ],
             [
              0.6666666666666666,
              "#ed7953"
             ],
             [
              0.7777777777777778,
              "#fb9f3a"
             ],
             [
              0.8888888888888888,
              "#fdca26"
             ],
             [
              1,
              "#f0f921"
             ]
            ],
            "type": "heatmap"
           }
          ],
          "heatmapgl": [
           {
            "colorbar": {
             "outlinewidth": 0,
             "ticks": ""
            },
            "colorscale": [
             [
              0,
              "#0d0887"
             ],
             [
              0.1111111111111111,
              "#46039f"
             ],
             [
              0.2222222222222222,
              "#7201a8"
             ],
             [
              0.3333333333333333,
              "#9c179e"
             ],
             [
              0.4444444444444444,
              "#bd3786"
             ],
             [
              0.5555555555555556,
              "#d8576b"
             ],
             [
              0.6666666666666666,
              "#ed7953"
             ],
             [
              0.7777777777777778,
              "#fb9f3a"
             ],
             [
              0.8888888888888888,
              "#fdca26"
             ],
             [
              1,
              "#f0f921"
             ]
            ],
            "type": "heatmapgl"
           }
          ],
          "histogram": [
           {
            "marker": {
             "pattern": {
              "fillmode": "overlay",
              "size": 10,
              "solidity": 0.2
             }
            },
            "type": "histogram"
           }
          ],
          "histogram2d": [
           {
            "colorbar": {
             "outlinewidth": 0,
             "ticks": ""
            },
            "colorscale": [
             [
              0,
              "#0d0887"
             ],
             [
              0.1111111111111111,
              "#46039f"
             ],
             [
              0.2222222222222222,
              "#7201a8"
             ],
             [
              0.3333333333333333,
              "#9c179e"
             ],
             [
              0.4444444444444444,
              "#bd3786"
             ],
             [
              0.5555555555555556,
              "#d8576b"
             ],
             [
              0.6666666666666666,
              "#ed7953"
             ],
             [
              0.7777777777777778,
              "#fb9f3a"
             ],
             [
              0.8888888888888888,
              "#fdca26"
             ],
             [
              1,
              "#f0f921"
             ]
            ],
            "type": "histogram2d"
           }
          ],
          "histogram2dcontour": [
           {
            "colorbar": {
             "outlinewidth": 0,
             "ticks": ""
            },
            "colorscale": [
             [
              0,
              "#0d0887"
             ],
             [
              0.1111111111111111,
              "#46039f"
             ],
             [
              0.2222222222222222,
              "#7201a8"
             ],
             [
              0.3333333333333333,
              "#9c179e"
             ],
             [
              0.4444444444444444,
              "#bd3786"
             ],
             [
              0.5555555555555556,
              "#d8576b"
             ],
             [
              0.6666666666666666,
              "#ed7953"
             ],
             [
              0.7777777777777778,
              "#fb9f3a"
             ],
             [
              0.8888888888888888,
              "#fdca26"
             ],
             [
              1,
              "#f0f921"
             ]
            ],
            "type": "histogram2dcontour"
           }
          ],
          "mesh3d": [
           {
            "colorbar": {
             "outlinewidth": 0,
             "ticks": ""
            },
            "type": "mesh3d"
           }
          ],
          "parcoords": [
           {
            "line": {
             "colorbar": {
              "outlinewidth": 0,
              "ticks": ""
             }
            },
            "type": "parcoords"
           }
          ],
          "pie": [
           {
            "automargin": true,
            "type": "pie"
           }
          ],
          "scatter": [
           {
            "fillpattern": {
             "fillmode": "overlay",
             "size": 10,
             "solidity": 0.2
            },
            "type": "scatter"
           }
          ],
          "scatter3d": [
           {
            "line": {
             "colorbar": {
              "outlinewidth": 0,
              "ticks": ""
             }
            },
            "marker": {
             "colorbar": {
              "outlinewidth": 0,
              "ticks": ""
             }
            },
            "type": "scatter3d"
           }
          ],
          "scattercarpet": [
           {
            "marker": {
             "colorbar": {
              "outlinewidth": 0,
              "ticks": ""
             }
            },
            "type": "scattercarpet"
           }
          ],
          "scattergeo": [
           {
            "marker": {
             "colorbar": {
              "outlinewidth": 0,
              "ticks": ""
             }
            },
            "type": "scattergeo"
           }
          ],
          "scattergl": [
           {
            "marker": {
             "colorbar": {
              "outlinewidth": 0,
              "ticks": ""
             }
            },
            "type": "scattergl"
           }
          ],
          "scattermapbox": [
           {
            "marker": {
             "colorbar": {
              "outlinewidth": 0,
              "ticks": ""
             }
            },
            "type": "scattermapbox"
           }
          ],
          "scatterpolar": [
           {
            "marker": {
             "colorbar": {
              "outlinewidth": 0,
              "ticks": ""
             }
            },
            "type": "scatterpolar"
           }
          ],
          "scatterpolargl": [
           {
            "marker": {
             "colorbar": {
              "outlinewidth": 0,
              "ticks": ""
             }
            },
            "type": "scatterpolargl"
           }
          ],
          "scatterternary": [
           {
            "marker": {
             "colorbar": {
              "outlinewidth": 0,
              "ticks": ""
             }
            },
            "type": "scatterternary"
           }
          ],
          "surface": [
           {
            "colorbar": {
             "outlinewidth": 0,
             "ticks": ""
            },
            "colorscale": [
             [
              0,
              "#0d0887"
             ],
             [
              0.1111111111111111,
              "#46039f"
             ],
             [
              0.2222222222222222,
              "#7201a8"
             ],
             [
              0.3333333333333333,
              "#9c179e"
             ],
             [
              0.4444444444444444,
              "#bd3786"
             ],
             [
              0.5555555555555556,
              "#d8576b"
             ],
             [
              0.6666666666666666,
              "#ed7953"
             ],
             [
              0.7777777777777778,
              "#fb9f3a"
             ],
             [
              0.8888888888888888,
              "#fdca26"
             ],
             [
              1,
              "#f0f921"
             ]
            ],
            "type": "surface"
           }
          ],
          "table": [
           {
            "cells": {
             "fill": {
              "color": "#EBF0F8"
             },
             "line": {
              "color": "white"
             }
            },
            "header": {
             "fill": {
              "color": "#C8D4E3"
             },
             "line": {
              "color": "white"
             }
            },
            "type": "table"
           }
          ]
         },
         "layout": {
          "annotationdefaults": {
           "arrowcolor": "#2a3f5f",
           "arrowhead": 0,
           "arrowwidth": 1
          },
          "autotypenumbers": "strict",
          "coloraxis": {
           "colorbar": {
            "outlinewidth": 0,
            "ticks": ""
           }
          },
          "colorscale": {
           "diverging": [
            [
             0,
             "#8e0152"
            ],
            [
             0.1,
             "#c51b7d"
            ],
            [
             0.2,
             "#de77ae"
            ],
            [
             0.3,
             "#f1b6da"
            ],
            [
             0.4,
             "#fde0ef"
            ],
            [
             0.5,
             "#f7f7f7"
            ],
            [
             0.6,
             "#e6f5d0"
            ],
            [
             0.7,
             "#b8e186"
            ],
            [
             0.8,
             "#7fbc41"
            ],
            [
             0.9,
             "#4d9221"
            ],
            [
             1,
             "#276419"
            ]
           ],
           "sequential": [
            [
             0,
             "#0d0887"
            ],
            [
             0.1111111111111111,
             "#46039f"
            ],
            [
             0.2222222222222222,
             "#7201a8"
            ],
            [
             0.3333333333333333,
             "#9c179e"
            ],
            [
             0.4444444444444444,
             "#bd3786"
            ],
            [
             0.5555555555555556,
             "#d8576b"
            ],
            [
             0.6666666666666666,
             "#ed7953"
            ],
            [
             0.7777777777777778,
             "#fb9f3a"
            ],
            [
             0.8888888888888888,
             "#fdca26"
            ],
            [
             1,
             "#f0f921"
            ]
           ],
           "sequentialminus": [
            [
             0,
             "#0d0887"
            ],
            [
             0.1111111111111111,
             "#46039f"
            ],
            [
             0.2222222222222222,
             "#7201a8"
            ],
            [
             0.3333333333333333,
             "#9c179e"
            ],
            [
             0.4444444444444444,
             "#bd3786"
            ],
            [
             0.5555555555555556,
             "#d8576b"
            ],
            [
             0.6666666666666666,
             "#ed7953"
            ],
            [
             0.7777777777777778,
             "#fb9f3a"
            ],
            [
             0.8888888888888888,
             "#fdca26"
            ],
            [
             1,
             "#f0f921"
            ]
           ]
          },
          "colorway": [
           "#636efa",
           "#EF553B",
           "#00cc96",
           "#ab63fa",
           "#FFA15A",
           "#19d3f3",
           "#FF6692",
           "#B6E880",
           "#FF97FF",
           "#FECB52"
          ],
          "font": {
           "color": "#2a3f5f"
          },
          "geo": {
           "bgcolor": "white",
           "lakecolor": "white",
           "landcolor": "#E5ECF6",
           "showlakes": true,
           "showland": true,
           "subunitcolor": "white"
          },
          "hoverlabel": {
           "align": "left"
          },
          "hovermode": "closest",
          "mapbox": {
           "style": "light"
          },
          "paper_bgcolor": "white",
          "plot_bgcolor": "#E5ECF6",
          "polar": {
           "angularaxis": {
            "gridcolor": "white",
            "linecolor": "white",
            "ticks": ""
           },
           "bgcolor": "#E5ECF6",
           "radialaxis": {
            "gridcolor": "white",
            "linecolor": "white",
            "ticks": ""
           }
          },
          "scene": {
           "xaxis": {
            "backgroundcolor": "#E5ECF6",
            "gridcolor": "white",
            "gridwidth": 2,
            "linecolor": "white",
            "showbackground": true,
            "ticks": "",
            "zerolinecolor": "white"
           },
           "yaxis": {
            "backgroundcolor": "#E5ECF6",
            "gridcolor": "white",
            "gridwidth": 2,
            "linecolor": "white",
            "showbackground": true,
            "ticks": "",
            "zerolinecolor": "white"
           },
           "zaxis": {
            "backgroundcolor": "#E5ECF6",
            "gridcolor": "white",
            "gridwidth": 2,
            "linecolor": "white",
            "showbackground": true,
            "ticks": "",
            "zerolinecolor": "white"
           }
          },
          "shapedefaults": {
           "line": {
            "color": "#2a3f5f"
           }
          },
          "ternary": {
           "aaxis": {
            "gridcolor": "white",
            "linecolor": "white",
            "ticks": ""
           },
           "baxis": {
            "gridcolor": "white",
            "linecolor": "white",
            "ticks": ""
           },
           "bgcolor": "#E5ECF6",
           "caxis": {
            "gridcolor": "white",
            "linecolor": "white",
            "ticks": ""
           }
          },
          "title": {
           "x": 0.05
          },
          "xaxis": {
           "automargin": true,
           "gridcolor": "white",
           "linecolor": "white",
           "ticks": "",
           "title": {
            "standoff": 15
           },
           "zerolinecolor": "white",
           "zerolinewidth": 2
          },
          "yaxis": {
           "automargin": true,
           "gridcolor": "white",
           "linecolor": "white",
           "ticks": "",
           "title": {
            "standoff": 15
           },
           "zerolinecolor": "white",
           "zerolinewidth": 2
          }
         }
        }
       }
      }
     },
     "metadata": {},
     "output_type": "display_data"
    }
   ],
   "source": [
    "\n",
    "map_traces = []\n",
    "train_stations = data[data['tags'].apply(lambda tags: 'building' in tags and tags['building'] == 'train_station')]\n",
    "\n",
    "for index, row in train_stations.iterrows():\n",
    "    tags = row['tags']\n",
    "    geometry = row['geometry']\n",
    "    \n",
    "    if geometry.geom_type == 'Point':\n",
    "        latitude, longitude = geometry.y, geometry.x\n",
    "    else:\n",
    "        latitude, longitude = geometry.centroid.y, geometry.centroid.x\n",
    "        \n",
    "    tags_str = json.dumps(tags, indent=4)\n",
    "        \n",
    "    map_trace = go.Scattermapbox(\n",
    "        lat=[latitude],\n",
    "        lon=[longitude],\n",
    "        mode='markers',\n",
    "        marker=dict(size=10, color='blue'), \n",
    "        hovertext=tags_str  \n",
    "    )\n",
    "        \n",
    "    map_traces.append(map_trace)\n",
    "layout = go.Layout(\n",
    "    mapbox_style=\"open-street-map\",\n",
    "    mapbox_center={\"lat\": latitude, \"lon\": longitude},\n",
    "    mapbox_zoom=12,\n",
    "    margin=dict(l=0, r=0, t=30, b=0)\n",
    ")\n",
    "fig = go.Figure(data=map_traces, layout=layout)\n",
    "\n",
    "fig.show()\n"
   ]
  },
  {
   "cell_type": "code",
   "execution_count": 13,
   "metadata": {},
   "outputs": [],
   "source": [
    "# import folium\n",
    "\n",
    "# m = folium.Map(location=[32.2426258, -8.5421335], zoom_start=12)\n",
    "\n",
    "# places_of_worship = data[data['tags'].apply(lambda tags: 'amenity' in tags and tags['amenity'] == 'place_of_worship')]\n",
    "# train_stations = data[data['tags'].apply(lambda tags: 'building' in tags and tags['building'] == 'train_station')]\n",
    "\n",
    "# for index, row in places_of_worship.iterrows():\n",
    "#     if row['geometry'].geom_type == 'Point':\n",
    "#         tags = json.dumps(row['tags'], indent=4)\n",
    "#         latitude, longitude = row['geometry'].y, row['geometry'].x\n",
    "#         folium.Marker([latitude, longitude], popup=folium.Popup(tags, max_width=300), icon=folium.Icon(color='green')).add_to(m)\n",
    "\n",
    "# for index, row in train_stations.iterrows():\n",
    "#     if row['geometry'].geom_type == 'Point':\n",
    "#         tags = json.dumps(row['tags'], indent=4)\n",
    "#         latitude, longitude = row['geometry'].y, row['geometry'].x\n",
    "#         folium.Marker([latitude, longitude], popup=folium.Popup(tags, max_width=300), icon=folium.Icon(color='blue')).add_to(m)\n",
    "\n",
    "# m\n"
   ]
  }
 ],
 "metadata": {
  "kernelspec": {
   "display_name": "Python 3",
   "language": "python",
   "name": "python3"
  },
  "language_info": {
   "codemirror_mode": {
    "name": "ipython",
    "version": 3
   },
   "file_extension": ".py",
   "mimetype": "text/x-python",
   "name": "python",
   "nbconvert_exporter": "python",
   "pygments_lexer": "ipython3",
   "version": "3.11.3"
  },
  "orig_nbformat": 4
 },
 "nbformat": 4,
 "nbformat_minor": 2
}
